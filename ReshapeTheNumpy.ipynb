{
  "nbformat": 4,
  "nbformat_minor": 0,
  "metadata": {
    "colab": {
      "name": "ReshapeTheNumpy.ipynb",
      "provenance": [],
      "collapsed_sections": [],
      "authorship_tag": "ABX9TyNGfiqUJ3hRjPsbTLzQxekl",
      "include_colab_link": true
    },
    "kernelspec": {
      "name": "python3",
      "display_name": "Python 3"
    }
  },
  "cells": [
    {
      "cell_type": "markdown",
      "metadata": {
        "id": "view-in-github",
        "colab_type": "text"
      },
      "source": [
        "<a href=\"https://colab.research.google.com/github/djcustard/GestureGAN/blob/master/ReshapeTheNumpy.ipynb\" target=\"_parent\"><img src=\"https://colab.research.google.com/assets/colab-badge.svg\" alt=\"Open In Colab\"/></a>"
      ]
    },
    {
      "cell_type": "code",
      "metadata": {
        "id": "XdLj0qnr5EV4",
        "colab_type": "code",
        "outputId": "47e56117-d3a4-4465-c0c4-08d354270d13",
        "colab": {
          "base_uri": "https://localhost:8080/",
          "height": 63
        }
      },
      "source": [
        "import pickle\n",
        "import os\n",
        "import tensorflow as tf\n",
        "import numpy as np\n"
      ],
      "execution_count": 0,
      "outputs": [
        {
          "output_type": "display_data",
          "data": {
            "text/html": [
              "<p style=\"color: red;\">\n",
              "The default version of TensorFlow in Colab will soon switch to TensorFlow 2.x.<br>\n",
              "We recommend you <a href=\"https://www.tensorflow.org/guide/migrate\" target=\"_blank\">upgrade</a> now \n",
              "or ensure your notebook will continue to use TensorFlow 1.x via the <code>%tensorflow_version 1.x</code> magic:\n",
              "<a href=\"https://colab.research.google.com/notebooks/tensorflow_version.ipynb\" target=\"_blank\">more info</a>.</p>\n"
            ],
            "text/plain": [
              "<IPython.core.display.HTML object>"
            ]
          },
          "metadata": {
            "tags": []
          }
        }
      ]
    },
    {
      "cell_type": "code",
      "metadata": {
        "id": "yHKMRQ0_5e6x",
        "colab_type": "code",
        "outputId": "790fe541-dd03-4386-e9c8-bc1ea11adabe",
        "colab": {
          "base_uri": "https://localhost:8080/",
          "height": 34
        }
      },
      "source": [
        "from google.colab import drive\n",
        "data = '/content/drive/My Drive/Dataset'\n",
        "drive.mount('/content/drive/')"
      ],
      "execution_count": 0,
      "outputs": [
        {
          "output_type": "stream",
          "text": [
            "Drive already mounted at /content/drive/; to attempt to forcibly remount, call drive.mount(\"/content/drive/\", force_remount=True).\n"
          ],
          "name": "stdout"
        }
      ]
    },
    {
      "cell_type": "code",
      "metadata": {
        "id": "rlYUP9cd5lLW",
        "colab_type": "code",
        "outputId": "89ceed23-1bcf-4703-a7cb-ad13b5ba8133",
        "colab": {
          "base_uri": "https://localhost:8080/",
          "height": 34
        }
      },
      "source": [
        "print(os.listdir(data))"
      ],
      "execution_count": 0,
      "outputs": [
        {
          "output_type": "stream",
          "text": [
            "['AudioClips', 'MelSpecs', 'CSVs', 'ResizedData', 'ResizedData.npy']\n"
          ],
          "name": "stdout"
        }
      ]
    },
    {
      "cell_type": "code",
      "metadata": {
        "id": "9I3adbph5ml2",
        "colab_type": "code",
        "outputId": "857c95a3-2047-428f-bd32-ac34175b1cde",
        "colab": {
          "base_uri": "https://localhost:8080/",
          "height": 34
        }
      },
      "source": [
        "melData = data+'/MelSpecs'\n",
        "print(os.listdir(melData))"
      ],
      "execution_count": 0,
      "outputs": [
        {
          "output_type": "stream",
          "text": [
            "['mels_test.pkl', 'mels_train_curated.pkl', 'mels_train_noisy.pkl.zip', 'mels_trn_noisy_best50s.pkl']\n"
          ],
          "name": "stdout"
        }
      ]
    },
    {
      "cell_type": "code",
      "metadata": {
        "id": "GgcX5Res5yiu",
        "colab_type": "code",
        "outputId": "60a61b62-5049-4a8f-d43e-afa2f0d0d6ad",
        "colab": {
          "base_uri": "https://localhost:8080/",
          "height": 34
        }
      },
      "source": [
        "mels_train_curated = melData+'/mels_train_curated.pkl'\n",
        "unpik = open(mels_train_curated,\"rb\")\n",
        "mel_train_curated = pickle.load(unpik)\n",
        "total = len(mel_train_curated)\n",
        "total"
      ],
      "execution_count": 0,
      "outputs": [
        {
          "output_type": "execute_result",
          "data": {
            "text/plain": [
              "4970"
            ]
          },
          "metadata": {
            "tags": []
          },
          "execution_count": 24
        }
      ]
    },
    {
      "cell_type": "code",
      "metadata": {
        "id": "O2YZTGcK9P7F",
        "colab_type": "code",
        "outputId": "c3ed43aa-b5d3-437d-e984-ee3b68f6d709",
        "colab": {
          "base_uri": "https://localhost:8080/",
          "height": 34
        }
      },
      "source": [
        "test_spec = mel_train_curated[4969]\n",
        "test_spec.shape"
      ],
      "execution_count": 0,
      "outputs": [
        {
          "output_type": "execute_result",
          "data": {
            "text/plain": [
              "(128, 1769, 3)"
            ]
          },
          "metadata": {
            "tags": []
          },
          "execution_count": 42
        }
      ]
    },
    {
      "cell_type": "code",
      "metadata": {
        "id": "JyquL6ONBYvv",
        "colab_type": "code",
        "colab": {}
      },
      "source": [
        "print(test_spec)"
      ],
      "execution_count": 0,
      "outputs": []
    },
    {
      "cell_type": "code",
      "metadata": {
        "id": "JSqzKctw95id",
        "colab_type": "code",
        "outputId": "30241a50-aab9-4e56-fc49-196344d35e80",
        "colab": {
          "base_uri": "https://localhost:8080/",
          "height": 1000
        }
      },
      "source": [
        "resizedData = data+'/ResizedData/Spec'\n",
        "index = 0\n",
        "while index < (total-1):\n",
        "  needed = mel_train_curated[index]\n",
        "  theNew = np.resize(needed, (128,128,3))\n",
        "  rD = resizedData+str(index)\n",
        "  np.save(rD, theNew)\n",
        "  print(index)\n",
        "  index += 1"
      ],
      "execution_count": 0,
      "outputs": [
        {
          "output_type": "stream",
          "text": [
            "CODE WAS RUN TO SHOW THE DEVELOPMENT AS EACH NUMPY ARRAY WAS SHORTENED"
          ],
          "name": "stdout"
        }
      ]
    },
    {
      "cell_type": "code",
      "metadata": {
        "id": "OcQK0SsKAU8C",
        "colab_type": "code",
        "outputId": "c63dd55b-be13-475f-ffda-7ffab819be85",
        "colab": {
          "base_uri": "https://localhost:8080/",
          "height": 34
        }
      },
      "source": [
        "newpath = os.listdir(data+'/ResizedData')\n",
        "len(newpath)"
      ],
      "execution_count": 0,
      "outputs": [
        {
          "output_type": "execute_result",
          "data": {
            "text/plain": [
              "4969"
            ]
          },
          "metadata": {
            "tags": []
          },
          "execution_count": 75
        }
      ]
    },
    {
      "cell_type": "code",
      "metadata": {
        "id": "HWBV9f_XAuzt",
        "colab_type": "code",
        "outputId": "c6918e6b-1a75-40ac-b94a-4520db52e56c",
        "colab": {
          "base_uri": "https://localhost:8080/",
          "height": 867
        }
      },
      "source": [
        "import random\n",
        "nump = resizedData+str(random.randint(1,4969))+'.npy'\n",
        "nplo = np.load(nump)\n",
        "print(nplo)\n",
        "nplo.shape"
      ],
      "execution_count": 0,
      "outputs": [
        {
          "output_type": "stream",
          "text": [
            "[[[34 34 34]\n",
            "  [38 38 38]\n",
            "  [53 53 53]\n",
            "  ...\n",
            "  [80 80 80]\n",
            "  [58 58 58]\n",
            "  [67 67 67]]\n",
            "\n",
            " [[55 55 55]\n",
            "  [60 60 60]\n",
            "  [71 71 71]\n",
            "  ...\n",
            "  [60 60 60]\n",
            "  [67 67 67]\n",
            "  [61 61 61]]\n",
            "\n",
            " [[64 64 64]\n",
            "  [62 62 62]\n",
            "  [71 71 71]\n",
            "  ...\n",
            "  [63 63 63]\n",
            "  [76 76 76]\n",
            "  [74 74 74]]\n",
            "\n",
            " ...\n",
            "\n",
            " [[ 2  2  2]\n",
            "  [13 13 13]\n",
            "  [ 7  7  7]\n",
            "  ...\n",
            "  [76 76 76]\n",
            "  [66 66 66]\n",
            "  [39 39 39]]\n",
            "\n",
            " [[28 28 28]\n",
            "  [22 22 22]\n",
            "  [ 0  0  0]\n",
            "  ...\n",
            "  [20 20 20]\n",
            "  [15 15 15]\n",
            "  [ 9  9  9]]\n",
            "\n",
            " [[ 0  0  0]\n",
            "  [15 15 15]\n",
            "  [10 10 10]\n",
            "  ...\n",
            "  [ 0  0  0]\n",
            "  [ 0  0  0]\n",
            "  [ 0  0  0]]]\n"
          ],
          "name": "stdout"
        },
        {
          "output_type": "execute_result",
          "data": {
            "text/plain": [
              "(128, 128, 3)"
            ]
          },
          "metadata": {
            "tags": []
          },
          "execution_count": 86
        }
      ]
    },
    {
      "cell_type": "code",
      "metadata": {
        "id": "t_-WStm9D-Xs",
        "colab_type": "code",
        "colab": {}
      },
      "source": [
        ""
      ],
      "execution_count": 0,
      "outputs": []
    }
  ]
}
